{
 "cells": [
  {
   "cell_type": "code",
   "execution_count": null,
   "metadata": {},
   "outputs": [
    {
     "name": "stdout",
     "output_type": "stream",
     "text": [
      "Welcome\n",
      "To\n",
      "Python\n"
     ]
    }
   ],
   "source": [
    "# Review: \n",
    "# Create a function called greet(). \n",
    "# Write 3 print statements inside the function.\n",
    "# Call the greet() function and run your code.\n",
    "\n",
    "\n",
    "def greet():\n",
    "    print(\"Hello Jack\")\n",
    "    print(\"How do you do Jack\")\n",
    "    print(\"Isn't the weather nice today?\")\n",
    "\n",
    "greet()"
   ]
  },
  {
   "cell_type": "code",
   "execution_count": null,
   "metadata": {},
   "outputs": [],
   "source": []
  }
 ],
 "metadata": {
  "kernelspec": {
   "display_name": "Python 3",
   "language": "python",
   "name": "python3"
  },
  "language_info": {
   "codemirror_mode": {
    "name": "ipython",
    "version": 3
   },
   "file_extension": ".py",
   "mimetype": "text/x-python",
   "name": "python",
   "nbconvert_exporter": "python",
   "pygments_lexer": "ipython3",
   "version": "3.13.2"
  }
 },
 "nbformat": 4,
 "nbformat_minor": 2
}
