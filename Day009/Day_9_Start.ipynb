{
 "cells": [
  {
   "cell_type": "code",
   "execution_count": null,
   "metadata": {},
   "outputs": [],
   "source": [
    "# Nesting Dictionary in Dictionary\n",
    "Travel_log ={\n",
    "    \"Maharashtra\": {\"cities_visited\":[\"Nagpur\", \"Amravati\", \"Mumbai\"], \"Total_visits\": 100},\n",
    "    \"UP\":{\"cities_visited\":[\"Dawarka\", \"Mathura\", \"virandavan\"], \"Toatal_visits\":3}\n",
    "}"
   ]
  },
  {
   "cell_type": "code",
   "execution_count": null,
   "metadata": {},
   "outputs": [],
   "source": [
    "# Nesting Dictionary in List\n",
    "Travel_log =[\n",
    "{\"States\":\"Maharashtra\",\"cities_visited\":[\"Nagpur\", \"Amravati\", \"Mumbai\"], \"Total_visits\": 100},\n",
    "{\"States\":\"UP\",\"cities_visited\": [\"Dawarka\", \"Mathura\", \"virandavan\"], \"Toatal_visits\":3}\n",
    "]\n",
    "\n",
    "\n",
    "\n",
    "          \n",
    "\n",
    "           \n",
    "\n",
    "            \n",
    "              \n",
    "               \n",
    "                    "
   ]
  }
 ],
 "metadata": {
  "language_info": {
   "name": "python"
  }
 },
 "nbformat": 4,
 "nbformat_minor": 2
}
